{
 "cells": [
  {
   "cell_type": "markdown",
   "metadata": {},
   "source": [
    "## Chatbots assistentes virtuais"
   ]
  },
  {
   "cell_type": "markdown",
   "metadata": {},
   "source": [
    "Vamos começar treinando o nosso modelo do Rasa-nlu. Essa parte não vai ser muito aprofundada, pois já vimos o processo antes. "
   ]
  },
  {
   "cell_type": "code",
   "execution_count": 1,
   "metadata": {},
   "outputs": [
    {
     "name": "stdout",
     "output_type": "stream",
     "text": [
      "Saving metadata at ./models/model_20201002-120618\n"
     ]
    }
   ],
   "source": [
    "import warnings\n",
    "warnings.simplefilter(\"ignore\")\n",
    "\n",
    "\n",
    "from rasa_nlu.config import RasaNLUConfig\n",
    "from rasa_nlu.model import Trainer\n",
    "from rasa_nlu.converters import load_data\n",
    "\n",
    "training_data = load_data(\"training_data.json\")\n",
    "\n",
    "pipeline = [\n",
    "    \"nlp_spacy\",\n",
    "    \"tokenizer_spacy\",\n",
    "    \"ner_crf\"\n",
    "]\n",
    "\n",
    "config = RasaNLUConfig(cmdline_args={\"pipeline\": pipeline})\n",
    "\n",
    "trainer = Trainer(config)\n",
    "model_directory = trainer.persist('./models/')\n",
    "\n",
    "print(f\"Saving metadata at {model_directory}\")\n",
    "\n",
    "interpreter = trainer.train(training_data)"
   ]
  },
  {
   "cell_type": "code",
   "execution_count": 2,
   "metadata": {
    "tags": []
   },
   "outputs": [
    {
     "name": "stdout",
     "output_type": "stream",
     "text": [
      "{'intent': {'name': '', 'confidence': 0.0}, 'entities': [{'start': 20, 'end': 25, 'value': 'cheap', 'entity': 'low-price', 'extractor': 'ner_crf'}, {'start': 26, 'end': 33, 'value': 'Mexican', 'entity': 'cousine', 'extractor': 'ner_crf'}], 'text': \"I'd like to go to a cheap Mexican restaurant\"}\n"
     ]
    }
   ],
   "source": [
    "print(interpreter.parse(\"I'd like to go to a cheap Mexican restaurant\"))"
   ]
  },
  {
   "cell_type": "markdown",
   "metadata": {},
   "source": [
    "Muitas vezes os chatbots precisam interagir com bases de dados, elas podem estar em bases SQL ou em APIs.\n",
    "\n",
    "Vamos agora supor que, num mundo pós COVID-19, você se viaja para Bengaluru, na Índia. Vamos fazer um chatbot que te ajude a encontrar restaurantes nessa localidade!\n",
    "\n",
    "A base de dados utilizada adapatada do [Zomato Bangalore Restaurants](https://www.kaggle.com/himanshupoddar/zomato-bangalore-restaurants)"
   ]
  },
  {
   "cell_type": "code",
   "execution_count": 3,
   "metadata": {},
   "outputs": [],
   "source": [
    "import sqlite3\n",
    "import random"
   ]
  },
  {
   "cell_type": "markdown",
   "metadata": {},
   "source": [
    "Com o sqlite, o processo para se conectar a uma database em sql é:\n",
    "``` Python\n",
    "conn = sqlite3.connect(database.db)\n",
    "c = conn.cursor()\n",
    "c.execute(\"SELECT * FROM  ... (query em SQL)\")\n",
    "```"
   ]
  },
  {
   "cell_type": "markdown",
   "metadata": {},
   "source": [
    "O primeiro passo então, é criar uma função que recebe os parametros que são extraidos com o rasa e cria uma query em SQL"
   ]
  },
  {
   "cell_type": "code",
   "execution_count": 4,
   "metadata": {},
   "outputs": [],
   "source": [
    "def find_restaurants(params):\n",
    "    # Create the base query\n",
    "    query = 'SELECT name, address,rate_clean FROM restaurants_bengaluru'\n",
    "    # Add filter clauses for each of the parameters\n",
    "    filters = []\n",
    "    t = []\n",
    "    for ent in params['entities']:\n",
    "        if ent['entity'] == 'cousine':\n",
    "            filters = filters + [\"{}=?\".format(ent['value'])]\n",
    "            t.append(1)\n",
    "        else:\n",
    "            filters = filters + [\"price_classification=?\"]\n",
    "            t.append(ent['entity'])\n",
    "    query += \" WHERE \" + \" and \".join(filters)\n",
    "    # Create the tuple of values\n",
    "    t = tuple(t)\n",
    "    # Open connection to DB\n",
    "    conn = sqlite3.connect(\"nlp.db\")\n",
    "    # Create a cursor\n",
    "    c = conn.cursor()\n",
    "    # Execute the query\n",
    "    c.execute(query, t)\n",
    "    # Return the results\n",
    "    return c.fetchall()"
   ]
  },
  {
   "cell_type": "code",
   "execution_count": 5,
   "metadata": {},
   "outputs": [
    {
     "data": {
      "text/plain": [
       "[('San Churro Cafe',\n",
       "  '1112, Next to KIMS Medical College, 17th Cross, 2nd Stage, Banashankari, Bangalore',\n",
       "  '3.8'),\n",
       " ('San Churro Cafe',\n",
       "  '1112, Next to KIMS Medical College, 17th Cross, 2nd Stage, Banashankari, Bangalore',\n",
       "  '3.8'),\n",
       " ('Peppy Peppers',\n",
       "  '942, 3rd Floor, 21st Main Road, 2nd Stage, Banashankari, Bangalore',\n",
       "  '4.2'),\n",
       " ('Gustoes Beer House',\n",
       "  '10, 30th Main, Deve Gowda Petrol Bunk Road, 3rd Stage, Banashankari, Bangalore',\n",
       "  '4.1')]"
      ]
     },
     "execution_count": 5,
     "metadata": {},
     "output_type": "execute_result"
    }
   ],
   "source": [
    "find_restaurants(interpreter.parse(\"I'd like to go to a fancy Mexican restaurant\"))"
   ]
  },
  {
   "cell_type": "markdown",
   "metadata": {},
   "source": [
    "Agora, vamos criar uma função que recebe a mensagem de texto do usuário e cria uma resposta do bot"
   ]
  },
  {
   "cell_type": "code",
   "execution_count": 6,
   "metadata": {},
   "outputs": [],
   "source": [
    "def response(message):\n",
    "    \n",
    "    not_found_responses = ['Sorry, I could find nothing like that :/', \"I can't find such thing, sorry\",\n",
    "                           'Maybe try again later']\n",
    "    \n",
    "    found_response_1 = [\"There is this amazing place {0} at {1}, it is rated {2} in Zomato's website\",\n",
    "                     \"Your lucky, I found this palce {0} at {1}! Rated {2}\"]\n",
    "    \n",
    "    found_response_more = [\"There are some options like that, here's one you might like: {0} - {1}.\",\n",
    "                          \"I found this place {0} at {1} and it is rated {2}, but i have more options :)\"]\n",
    "    \n",
    "    interpreter_message = interpreter.parse(message)\n",
    "    possibilities = find_restaurants(interpreter_message)\n",
    "    if len(possibilities)==0:\n",
    "        response = random.choice(not_found_responses)\n",
    "    elif len(possibilities) == 1:\n",
    "        answer = random.choice(found_response_1)\n",
    "        response = answer.format(*possibilities[0])\n",
    "    else:\n",
    "        answer = random.choice(found_response_more)\n",
    "        restaurant = random.choice(possibilities)\n",
    "        response = answer.format(*restaurant)\n",
    "    return response\n",
    "        "
   ]
  },
  {
   "cell_type": "code",
   "execution_count": 7,
   "metadata": {},
   "outputs": [
    {
     "data": {
      "text/plain": [
       "\"There are some options like that, here's one you might like: Burger King - 59/3, Ground & First Floor, West Anjaneya Temple Road, Ward 49, Gandhi Bazaar, Basavanagudi, Bangalore.\""
      ]
     },
     "execution_count": 7,
     "metadata": {},
     "output_type": "execute_result"
    }
   ],
   "source": [
    "response(\"I'd like to go to a cheap Burger restaurant\")"
   ]
  },
  {
   "cell_type": "code",
   "execution_count": 9,
   "metadata": {},
   "outputs": [
    {
     "data": {
      "text/plain": [
       "\"I can't find such thing, sorry\""
      ]
     },
     "execution_count": 9,
     "metadata": {},
     "output_type": "execute_result"
    }
   ],
   "source": [
    "response(\"I'd like to go to a cheap Mexican restaurant\")"
   ]
  },
  {
   "cell_type": "code",
   "execution_count": 10,
   "metadata": {},
   "outputs": [
    {
     "data": {
      "text/plain": [
       "'I found this place Udupi Upahar at No.1585, 22nd Main,Banashankari 1st Stage and it is rated 3.8, but i have more options :)'"
      ]
     },
     "execution_count": 10,
     "metadata": {},
     "output_type": "execute_result"
    }
   ],
   "source": [
    "response(\"I'd like to go to a cheap Indian restaurant\")"
   ]
  }
 ],
 "metadata": {
  "kernelspec": {
   "display_name": "chatbots",
   "language": "python",
   "name": "chatbots"
  },
  "language_info": {
   "codemirror_mode": {
    "name": "ipython",
    "version": 3
   },
   "file_extension": ".py",
   "mimetype": "text/x-python",
   "name": "python",
   "nbconvert_exporter": "python",
   "pygments_lexer": "ipython3",
   "version": "3.6.5"
  }
 },
 "nbformat": 4,
 "nbformat_minor": 4
}
